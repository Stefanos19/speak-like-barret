{
 "cells": [
  {
   "cell_type": "code",
   "execution_count": 1,
   "id": "d3a3f84b-a3d8-4c2c-9e72-5f59c6cd8cd7",
   "metadata": {},
   "outputs": [],
   "source": [
    "character = \"Barret\""
   ]
  },
  {
   "cell_type": "code",
   "execution_count": 2,
   "id": "7a4dde77-6e0c-479d-96a1-889998d1639c",
   "metadata": {},
   "outputs": [
    {
     "name": "stdout",
     "output_type": "stream",
     "text": [
      "True\n",
      "12.1\n"
     ]
    }
   ],
   "source": [
    "import torch\n",
    "print(torch.cuda.is_available())\n",
    "print(torch.version.cuda)\n"
   ]
  },
  {
   "cell_type": "code",
   "execution_count": 3,
   "id": "dd277167-e54d-45a3-8e72-addef1ee852a",
   "metadata": {},
   "outputs": [
    {
     "name": "stdout",
     "output_type": "stream",
     "text": [
      "device is: cuda\n",
      "Extracted text from data/dialog.html to data/dialog.txt\n"
     ]
    }
   ],
   "source": [
    "import torch\n",
    "device = 'cuda' if torch.cuda.is_available() else 'cpu'\n",
    "print(\"device is:\", device)\n",
    "\n",
    "# getting txt from file\n",
    "from bs4 import BeautifulSoup\n",
    "\n",
    "def html_to_text(input_html_path, output_text_path):\n",
    "    # Read in the HTML file\n",
    "    with open(input_html_path, 'r', encoding='utf-8') as f:\n",
    "        html_content = f.read()\n",
    "    \n",
    "    # Use BeautifulSoup to parse the HTML\n",
    "    soup = BeautifulSoup(html_content, 'html.parser')\n",
    "    \n",
    "    # Extract all text from the parsed HTML\n",
    "    text_content = soup.get_text()\n",
    "    \n",
    "    # Write the text to an output .txt file\n",
    "    with open(output_text_path, 'w', encoding='utf-8') as f_out:\n",
    "        f_out.write(text_content)\n",
    "\n",
    "if __name__ == \"__main__\":\n",
    "    # Example usage\n",
    "    input_file = \"data/dialog.html\"\n",
    "    output_file = \"data/dialog.txt\"\n",
    "    \n",
    "    html_to_text(input_file, output_file)\n",
    "    print(f\"Extracted text from {input_file} to {output_file}\")"
   ]
  },
  {
   "cell_type": "code",
   "execution_count": 4,
   "id": "99bc5725-be80-496a-b353-e237647dd1f4",
   "metadata": {},
   "outputs": [],
   "source": [
    "# extract Barret utterances\n",
    "def extract_character_utterances(filepath):\n",
    "    barret_lines = []\n",
    "    \n",
    "    # Read the entire file as text\n",
    "    with open(filepath, 'r', encoding='utf-8') as f:\n",
    "        content = f.read()\n",
    "    \n",
    "    # If needed, you can try to remove common HTML tags,\n",
    "    # but if the dialog is mostly normal text, you can\n",
    "    # just treat it as text lines:\n",
    "    lines = content.splitlines()\n",
    "    \n",
    "    for line in lines:\n",
    "        # Strip leading/trailing spaces\n",
    "        stripped_line = line.strip()\n",
    "        # Check if the line starts with \"Barret:\"\n",
    "        if stripped_line.startswith(f\"{character}:\"):\n",
    "            # Extract everything after \"Barret:\"\n",
    "            utterance = stripped_line[len(f\"{character}:\"):].strip()\n",
    "            barret_lines.append(utterance)\n",
    "    \n",
    "    # Return them as one string, separated by newline\n",
    "    return \"\\n\".join(barret_lines)\n",
    "\n",
    "\n"
   ]
  },
  {
   "cell_type": "code",
   "execution_count": 5,
   "id": "97be6f54-cb30-4b1e-9068-b75cfdd3e756",
   "metadata": {},
   "outputs": [
    {
     "name": "stdout",
     "output_type": "stream",
     "text": [
      "length of dataset in characters:  37501\n"
     ]
    }
   ],
   "source": [
    "text = extract_character_utterances('data/dialog.txt')\n",
    "print(\"length of dataset in characters: \", len(text))"
   ]
  },
  {
   "cell_type": "code",
   "execution_count": 6,
   "id": "559fbb3f-0066-4890-ada0-bc7aedf49d12",
   "metadata": {},
   "outputs": [
    {
     "name": "stdout",
     "output_type": "stream",
     "text": [
      "C'mon newcomer. Follow me.\n",
      "The hell you all doin'!? I thought I told you never to move in a group! Our target's the North Mako Reactor. We'll meet on the bridge in front of it.\n",
      "Ex-SOLDIER, huh? Don't \n"
     ]
    }
   ],
   "source": [
    "# let's look at the first 1000 characters\n",
    "print(text[:200])"
   ]
  },
  {
   "cell_type": "code",
   "execution_count": 7,
   "id": "b77c9135-249b-43ef-a2d0-0da57041df78",
   "metadata": {},
   "outputs": [],
   "source": [
    "text_output_file = f'data/train.txt'\n",
    "with open(text_output_file, 'w', encoding='utf-8') as f:\n",
    "        f.write(text)\n"
   ]
  },
  {
   "cell_type": "code",
   "execution_count": null,
   "id": "efd80ba2-6247-4ab1-9199-1e4f7d5491cf",
   "metadata": {},
   "outputs": [],
   "source": []
  },
  {
   "cell_type": "code",
   "execution_count": null,
   "id": "16976fc1-5f3d-45b0-b699-82d47d315aed",
   "metadata": {},
   "outputs": [],
   "source": []
  },
  {
   "cell_type": "code",
   "execution_count": null,
   "id": "eb3c1ca6-3b06-490c-8fa7-b545ff472238",
   "metadata": {},
   "outputs": [],
   "source": []
  }
 ],
 "metadata": {
  "kernelspec": {
   "display_name": "Python 3 (ipykernel)",
   "language": "python",
   "name": "python3"
  },
  "language_info": {
   "codemirror_mode": {
    "name": "ipython",
    "version": 3
   },
   "file_extension": ".py",
   "mimetype": "text/x-python",
   "name": "python",
   "nbconvert_exporter": "python",
   "pygments_lexer": "ipython3",
   "version": "3.12.7"
  }
 },
 "nbformat": 4,
 "nbformat_minor": 5
}
